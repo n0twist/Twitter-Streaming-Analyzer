{
 "cells": [
  {
   "cell_type": "code",
   "execution_count": 1,
   "metadata": {
    "collapsed": true
   },
   "outputs": [],
   "source": [
    "import psycopg2\n",
    "import pandas as pd\n",
    "from config import config\n",
    "from matplotlib import pylab as plt\n",
    "import networkx as nx\n",
    "\n",
    "%matplotlib inline\n"
   ]
  },
  {
   "cell_type": "code",
   "execution_count": 2,
   "metadata": {
    "collapsed": false
   },
   "outputs": [
    {
     "name": "stdout",
     "output_type": "stream",
     "text": [
      "Connecting to the PostgreSQL database...\n",
      "PostgreSQL database version:\n",
      "('PostgreSQL 10.3 on x86_64-pc-linux-gnu, compiled by gcc (GCC) 7.3.0, 64-bit',)\n"
     ]
    }
   ],
   "source": [
    "conn = None\n",
    "try:\n",
    "    # read connection parameters\n",
    "    params = config()\n",
    "\n",
    "    # connect to the PostgreSQL server\n",
    "    print('Connecting to the PostgreSQL database...')\n",
    "    conn = psycopg2.connect(**params)\n",
    "\n",
    "    # create a cursor\n",
    "    cur = conn.cursor()\n",
    "\n",
    "    # execute a statement\n",
    "    print('PostgreSQL database version:')\n",
    "    cur.execute('SELECT version()')\n",
    "\n",
    "    # display the PostgreSQL database server version\n",
    "    db_version = cur.fetchone()\n",
    "    print(db_version)\n",
    "\n",
    "    # close the communication with the PostgreSQL\n",
    "    cur.close()\n",
    "\n",
    "except (Exception, psycopg2.DatabaseError) as error:\n",
    "    print(error)"
   ]
  },
  {
   "cell_type": "code",
   "execution_count": 3,
   "metadata": {
    "collapsed": false
   },
   "outputs": [
    {
     "name": "stdout",
     "output_type": "stream",
     "text": [
      "Number of Tweets: 286330\n"
     ]
    }
   ],
   "source": [
    "tweets = pd.read_sql_query(\"SELECT * FROM tweets_info;\", conn, parse_dates=['created_at'] )\n",
    "print(\"Number of Tweets: %s\" %len(tweets))"
   ]
  },
  {
   "cell_type": "code",
   "execution_count": 4,
   "metadata": {
    "collapsed": false
   },
   "outputs": [
    {
     "data": {
      "text/html": [
       "<div>\n",
       "<table border=\"1\" class=\"dataframe\">\n",
       "  <thead>\n",
       "    <tr style=\"text-align: right;\">\n",
       "      <th></th>\n",
       "      <th>id</th>\n",
       "      <th>user_id</th>\n",
       "      <th>text</th>\n",
       "      <th>created_at</th>\n",
       "      <th>source</th>\n",
       "      <th>lang</th>\n",
       "      <th>truncated</th>\n",
       "      <th>is_retweet</th>\n",
       "      <th>retweet_id</th>\n",
       "      <th>is_quote</th>\n",
       "      <th>...</th>\n",
       "      <th>quote_count</th>\n",
       "      <th>reply_count</th>\n",
       "      <th>retweet_count</th>\n",
       "      <th>favorite_count</th>\n",
       "      <th>favorited</th>\n",
       "      <th>retweeted</th>\n",
       "      <th>hashtags</th>\n",
       "      <th>user_mentions</th>\n",
       "      <th>number_of_urls</th>\n",
       "      <th>extracted</th>\n",
       "    </tr>\n",
       "  </thead>\n",
       "  <tbody>\n",
       "    <tr>\n",
       "      <th>0</th>\n",
       "      <td>951624637900820481</td>\n",
       "      <td>1658019493</td>\n",
       "      <td>Ihr huensöhne</td>\n",
       "      <td>2018-01-12 01:19:28</td>\n",
       "      <td>&lt;a href=\"http://twitter.com/download/android\" ...</td>\n",
       "      <td>de</td>\n",
       "      <td>False</td>\n",
       "      <td>False</td>\n",
       "      <td>NaN</td>\n",
       "      <td>False</td>\n",
       "      <td>...</td>\n",
       "      <td>0</td>\n",
       "      <td>0</td>\n",
       "      <td>0</td>\n",
       "      <td>0</td>\n",
       "      <td>False</td>\n",
       "      <td>False</td>\n",
       "      <td>None</td>\n",
       "      <td>None</td>\n",
       "      <td>0</td>\n",
       "      <td>False</td>\n",
       "    </tr>\n",
       "    <tr>\n",
       "      <th>1</th>\n",
       "      <td>951624793098514433</td>\n",
       "      <td>2394270660</td>\n",
       "      <td>#homo #kostenlos Teenie wird anal zerfetzt (22...</td>\n",
       "      <td>2018-01-12 01:20:05</td>\n",
       "      <td>&lt;a href=\"http://serviporno.com\" rel=\"nofollow\"...</td>\n",
       "      <td>de</td>\n",
       "      <td>False</td>\n",
       "      <td>False</td>\n",
       "      <td>NaN</td>\n",
       "      <td>False</td>\n",
       "      <td>...</td>\n",
       "      <td>0</td>\n",
       "      <td>0</td>\n",
       "      <td>0</td>\n",
       "      <td>0</td>\n",
       "      <td>False</td>\n",
       "      <td>False</td>\n",
       "      <td>homo kostenlos</td>\n",
       "      <td>None</td>\n",
       "      <td>1</td>\n",
       "      <td>False</td>\n",
       "    </tr>\n",
       "    <tr>\n",
       "      <th>2</th>\n",
       "      <td>951624818239180803</td>\n",
       "      <td>3414086001</td>\n",
       "      <td>RT @HoerstelC: #CIA-#Chef #Pompeo dummer #Poli...</td>\n",
       "      <td>2018-01-12 01:20:11</td>\n",
       "      <td>&lt;a href=\"http://twitter.com\" rel=\"nofollow\"&gt;Tw...</td>\n",
       "      <td>de</td>\n",
       "      <td>False</td>\n",
       "      <td>True</td>\n",
       "      <td>9.504821e+17</td>\n",
       "      <td>False</td>\n",
       "      <td>...</td>\n",
       "      <td>0</td>\n",
       "      <td>0</td>\n",
       "      <td>0</td>\n",
       "      <td>0</td>\n",
       "      <td>False</td>\n",
       "      <td>False</td>\n",
       "      <td>CIA Chef Pompeo Politclown FoxNews Iraner Demo...</td>\n",
       "      <td>463758197</td>\n",
       "      <td>0</td>\n",
       "      <td>False</td>\n",
       "    </tr>\n",
       "    <tr>\n",
       "      <th>3</th>\n",
       "      <td>951624847616077824</td>\n",
       "      <td>2936727814</td>\n",
       "      <td>Es gibt einen neuen Deal: (1x, 2x oder 3x Yvel...</td>\n",
       "      <td>2018-01-12 01:20:18</td>\n",
       "      <td>&lt;a href=\"https://Premium-Lizenz.de/\" rel=\"nofo...</td>\n",
       "      <td>de</td>\n",
       "      <td>True</td>\n",
       "      <td>False</td>\n",
       "      <td>NaN</td>\n",
       "      <td>False</td>\n",
       "      <td>...</td>\n",
       "      <td>0</td>\n",
       "      <td>0</td>\n",
       "      <td>0</td>\n",
       "      <td>0</td>\n",
       "      <td>False</td>\n",
       "      <td>False</td>\n",
       "      <td>None</td>\n",
       "      <td>None</td>\n",
       "      <td>0</td>\n",
       "      <td>False</td>\n",
       "    </tr>\n",
       "    <tr>\n",
       "      <th>4</th>\n",
       "      <td>951623218527395841</td>\n",
       "      <td>3615347356</td>\n",
       "      <td>Die Nationalitätten Feststellung könnte sehr s...</td>\n",
       "      <td>2018-01-12 01:13:50</td>\n",
       "      <td>&lt;a href=\"http://twitter.com\" rel=\"nofollow\"&gt;Tw...</td>\n",
       "      <td>de</td>\n",
       "      <td>True</td>\n",
       "      <td>False</td>\n",
       "      <td>NaN</td>\n",
       "      <td>False</td>\n",
       "      <td>...</td>\n",
       "      <td>0</td>\n",
       "      <td>0</td>\n",
       "      <td>1</td>\n",
       "      <td>2</td>\n",
       "      <td>False</td>\n",
       "      <td>False</td>\n",
       "      <td>None</td>\n",
       "      <td>None</td>\n",
       "      <td>1</td>\n",
       "      <td>True</td>\n",
       "    </tr>\n",
       "  </tbody>\n",
       "</table>\n",
       "<p>5 rows × 24 columns</p>\n",
       "</div>"
      ],
      "text/plain": [
       "                   id     user_id  \\\n",
       "0  951624637900820481  1658019493   \n",
       "1  951624793098514433  2394270660   \n",
       "2  951624818239180803  3414086001   \n",
       "3  951624847616077824  2936727814   \n",
       "4  951623218527395841  3615347356   \n",
       "\n",
       "                                                text          created_at  \\\n",
       "0                                      Ihr huensöhne 2018-01-12 01:19:28   \n",
       "1  #homo #kostenlos Teenie wird anal zerfetzt (22... 2018-01-12 01:20:05   \n",
       "2  RT @HoerstelC: #CIA-#Chef #Pompeo dummer #Poli... 2018-01-12 01:20:11   \n",
       "3  Es gibt einen neuen Deal: (1x, 2x oder 3x Yvel... 2018-01-12 01:20:18   \n",
       "4  Die Nationalitätten Feststellung könnte sehr s... 2018-01-12 01:13:50   \n",
       "\n",
       "                                              source lang truncated  \\\n",
       "0  <a href=\"http://twitter.com/download/android\" ...   de     False   \n",
       "1  <a href=\"http://serviporno.com\" rel=\"nofollow\"...   de     False   \n",
       "2  <a href=\"http://twitter.com\" rel=\"nofollow\">Tw...   de     False   \n",
       "3  <a href=\"https://Premium-Lizenz.de/\" rel=\"nofo...   de      True   \n",
       "4  <a href=\"http://twitter.com\" rel=\"nofollow\">Tw...   de      True   \n",
       "\n",
       "  is_retweet    retweet_id is_quote    ...     quote_count reply_count  \\\n",
       "0      False           NaN    False    ...               0           0   \n",
       "1      False           NaN    False    ...               0           0   \n",
       "2       True  9.504821e+17    False    ...               0           0   \n",
       "3      False           NaN    False    ...               0           0   \n",
       "4      False           NaN    False    ...               0           0   \n",
       "\n",
       "   retweet_count  favorite_count  favorited  retweeted  \\\n",
       "0              0               0      False      False   \n",
       "1              0               0      False      False   \n",
       "2              0               0      False      False   \n",
       "3              0               0      False      False   \n",
       "4              1               2      False      False   \n",
       "\n",
       "                                            hashtags  user_mentions  \\\n",
       "0                                               None           None   \n",
       "1                                     homo kostenlos           None   \n",
       "2  CIA Chef Pompeo Politclown FoxNews Iraner Demo...      463758197   \n",
       "3                                               None           None   \n",
       "4                                               None           None   \n",
       "\n",
       "  number_of_urls extracted  \n",
       "0              0     False  \n",
       "1              1     False  \n",
       "2              0     False  \n",
       "3              0     False  \n",
       "4              1      True  \n",
       "\n",
       "[5 rows x 24 columns]"
      ]
     },
     "execution_count": 4,
     "metadata": {},
     "output_type": "execute_result"
    }
   ],
   "source": [
    "tweets.head()"
   ]
  },
  {
   "cell_type": "code",
   "execution_count": 5,
   "metadata": {
    "collapsed": false
   },
   "outputs": [
    {
     "data": {
      "text/html": [
       "<div>\n",
       "<table border=\"1\" class=\"dataframe\">\n",
       "  <thead>\n",
       "    <tr style=\"text-align: right;\">\n",
       "      <th></th>\n",
       "      <th>created_at</th>\n",
       "      <th>hashtag</th>\n",
       "      <th>id</th>\n",
       "      <th>user_id</th>\n",
       "    </tr>\n",
       "  </thead>\n",
       "  <tbody>\n",
       "    <tr>\n",
       "      <th>0</th>\n",
       "      <td>2018-01-12 01:20:05</td>\n",
       "      <td>homo</td>\n",
       "      <td>951624793098514433</td>\n",
       "      <td>2394270660</td>\n",
       "    </tr>\n",
       "    <tr>\n",
       "      <th>1</th>\n",
       "      <td>2018-01-12 01:20:05</td>\n",
       "      <td>kostenlos</td>\n",
       "      <td>951624793098514433</td>\n",
       "      <td>2394270660</td>\n",
       "    </tr>\n",
       "    <tr>\n",
       "      <th>2</th>\n",
       "      <td>2018-01-12 01:20:11</td>\n",
       "      <td>CIA</td>\n",
       "      <td>951624818239180803</td>\n",
       "      <td>3414086001</td>\n",
       "    </tr>\n",
       "    <tr>\n",
       "      <th>3</th>\n",
       "      <td>2018-01-12 01:20:11</td>\n",
       "      <td>Chef</td>\n",
       "      <td>951624818239180803</td>\n",
       "      <td>3414086001</td>\n",
       "    </tr>\n",
       "    <tr>\n",
       "      <th>4</th>\n",
       "      <td>2018-01-12 01:20:11</td>\n",
       "      <td>Pompeo</td>\n",
       "      <td>951624818239180803</td>\n",
       "      <td>3414086001</td>\n",
       "    </tr>\n",
       "  </tbody>\n",
       "</table>\n",
       "</div>"
      ],
      "text/plain": [
       "           created_at    hashtag                  id     user_id\n",
       "0 2018-01-12 01:20:05       homo  951624793098514433  2394270660\n",
       "1 2018-01-12 01:20:05  kostenlos  951624793098514433  2394270660\n",
       "2 2018-01-12 01:20:11        CIA  951624818239180803  3414086001\n",
       "3 2018-01-12 01:20:11       Chef  951624818239180803  3414086001\n",
       "4 2018-01-12 01:20:11     Pompeo  951624818239180803  3414086001"
      ]
     },
     "execution_count": 5,
     "metadata": {},
     "output_type": "execute_result"
    }
   ],
   "source": [
    "#hashtags = pd.DataFrame(columns=['created_at', 'hashtag', 'id'])\n",
    "entry_list = []\n",
    "\n",
    "for index, row in tweets.iterrows():\n",
    "    if row['hashtags'] != None:\n",
    "        hashtag_list = row['hashtags'].split(\" \")\n",
    "        for hashtag in hashtag_list:\n",
    "            entry_list.append({'created_at': row['created_at'], \n",
    "                               'hashtag': hashtag,  \n",
    "                               'id': row['id'],\n",
    "                               'user_id': row['user_id']})\n",
    "entry_list\n",
    "hashtags = pd.DataFrame(data=entry_list, columns=['created_at', 'hashtag', 'id', 'user_id'])\n",
    "hashtags.set_index('created_at')\n",
    "hashtags.head()"
   ]
  },
  {
   "cell_type": "code",
   "execution_count": 31,
   "metadata": {
    "collapsed": false
   },
   "outputs": [],
   "source": [
    "G = nx.Graph()\n",
    "for index, row in hashtags.iterrows():\n",
    "    G.add_node(row['hashtag'])\n",
    "    #print(row['hashtag'])\n",
    "    for idx, to_row in hashtags[hashtags['id'] == row['id']].iterrows():\n",
    "        G.add_edge(row['hashtag'], to_row['hashtag'])"
   ]
  },
  {
   "cell_type": "code",
   "execution_count": null,
   "metadata": {
    "collapsed": false
   },
   "outputs": [],
   "source": [
    "nx.draw(G)"
   ]
  },
  {
   "cell_type": "code",
   "execution_count": 30,
   "metadata": {
    "collapsed": false
   },
   "outputs": [
    {
     "name": "stdout",
     "output_type": "stream",
     "text": [
      "[['bkagjlad', 'Aurora', 'ersten', 'Schwanz', 'Anny', 'Teen', 'und'], ['allein', 'Pompeo', 'Chef', 'CIA', 'Iraner', 'angefangen', 'Grotesk', 'FoxNews', 'Politclown', 'Demonstrationen'], ['von', 'Porn'], ['kostenlos', 'homo'], ['CastropRauxel', 'Porn'], ['die', 'Porn'], ['sie', 'Porn'], ['Porn', 'verführt']]\n"
     ]
    }
   ],
   "source": [
    "print(list(nx.find_cliques(G)))"
   ]
  }
 ],
 "metadata": {
  "kernelspec": {
   "display_name": "Python 3",
   "language": "python",
   "name": "python3"
  },
  "language_info": {
   "codemirror_mode": {
    "name": "ipython",
    "version": 3
   },
   "file_extension": ".py",
   "mimetype": "text/x-python",
   "name": "python",
   "nbconvert_exporter": "python",
   "pygments_lexer": "ipython3",
   "version": "3.6.5"
  }
 },
 "nbformat": 4,
 "nbformat_minor": 2
}
