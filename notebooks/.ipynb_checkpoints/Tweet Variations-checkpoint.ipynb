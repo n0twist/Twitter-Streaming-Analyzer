{
 "cells": [
  {
   "cell_type": "markdown",
   "metadata": {},
   "source": [
    "# Tweet Variations and Examples"
   ]
  },
  {
   "cell_type": "code",
   "execution_count": 1,
   "metadata": {},
   "outputs": [],
   "source": [
    "import psycopg2\n",
    "import pandas as pd\n",
    "import config\n",
    "from matplotlib import pylab as plt\n",
    "import seaborn as sns\n",
    "import numpy as np\n",
    "from IPython.display import display, HTML\n",
    "import re\n",
    "from IPython.display import HTML, display\n",
    "\n",
    "\n",
    "color_palette = sns.color_palette(palette='muted', n_colors=None, desat=.75)\n",
    "sns.set(context='notebook', palette=color_palette, style='whitegrid', font='sans-serif', font_scale=1.5, color_codes=False, rc=None)\n",
    "pd.set_option('display.max_colwidth', -1)\n",
    "table_styles = [{'selector': 'td',\n",
    "                 'props': [('min-width', '100px'), ('text-align', 'center')]},\n",
    "                {'selector': 'tr',\n",
    "                 'props': [('border-bottom', '1px dotted black')]},\n",
    "                {'selector': 'th',\n",
    "                 'props': [('text-align', 'center')]}\n",
    "               ]\n",
    "\n",
    "%matplotlib inline\n",
    "\n",
    "directory = \"url_top_lists/\"\n",
    "stream = \"comparison\""
   ]
  },
  {
   "cell_type": "code",
   "execution_count": 2,
   "metadata": {},
   "outputs": [
    {
     "name": "stdout",
     "output_type": "stream",
     "text": [
      "Connecting to the PostgreSQL database...\n",
      "PostgreSQL database version:\n",
      "('PostgreSQL 9.6.7, compiled by Visual C++ build 1800, 64-bit',)\n",
      "('PostgreSQL 9.6.7, compiled by Visual C++ build 1800, 64-bit',)\n",
      "('PostgreSQL 9.6.7, compiled by Visual C++ build 1800, 64-bit',)\n",
      "('PostgreSQL 9.6.7, compiled by Visual C++ build 1800, 64-bit',)\n"
     ]
    }
   ],
   "source": [
    "conn = None\n",
    "try:\n",
    "    # read connection parameters\n",
    "    paramsS17 = config.cfgAzureS17()\n",
    "    paramsS03 = config.cfgAzureS03()\n",
    "\n",
    "    paramsF17 = config.cfgAzureF17()\n",
    "    paramsF03 = config.cfgAzureF03()\n",
    "    \n",
    "    # connect to the PostgreSQL server\n",
    "    print('Connecting to the PostgreSQL database...')\n",
    "    connS17 = psycopg2.connect(**paramsS17)\n",
    "    connS03 = psycopg2.connect(**paramsS03)\n",
    "    \n",
    "    connF17 = psycopg2.connect(**paramsF17)\n",
    "    connF03 = psycopg2.connect(**paramsF03)\n",
    "\n",
    "    # create a cursor\n",
    "    curS17 = connS17.cursor()\n",
    "    curS03 = connS03.cursor()\n",
    "    \n",
    "    curF17 = connF17.cursor()\n",
    "    curF03 = connF03.cursor()\n",
    "\n",
    "    # execute a statement\n",
    "    print('PostgreSQL database version:')\n",
    "    \n",
    "    curS17.execute('SELECT version()')\n",
    "    curS03.execute('SELECT version()')\n",
    "    curF17.execute('SELECT version()')\n",
    "    curF03.execute('SELECT version()')\n",
    "    \n",
    "    # display the PostgreSQL database server version\n",
    "    db_version_curS17 = curS17.fetchone()\n",
    "    db_version_curS03 = curS03.fetchone()\n",
    "    db_version_curF17 = curF17.fetchone()\n",
    "    db_version_curF03 = curF03.fetchone()\n",
    "    \n",
    "    print(db_version_curS17)\n",
    "    print(db_version_curS03)\n",
    "    print(db_version_curF17)\n",
    "    print(db_version_curF03)\n",
    "\n",
    "    # close the communication with the PostgreSQL\n",
    "    curS17.close()\n",
    "    curS03.close()\n",
    "    curF17.close()\n",
    "    curF03.close()\n",
    "\n",
    "except (Exception, psycopg2.DatabaseError) as error:\n",
    "    print(error)"
   ]
  },
  {
   "cell_type": "code",
   "execution_count": 3,
   "metadata": {
    "scrolled": true
   },
   "outputs": [
    {
     "name": "stdout",
     "output_type": "stream",
     "text": [
      "Number of Tweets: 112002\n"
     ]
    },
    {
     "data": {
      "text/html": [
       "<div>\n",
       "<style scoped>\n",
       "    .dataframe tbody tr th:only-of-type {\n",
       "        vertical-align: middle;\n",
       "    }\n",
       "\n",
       "    .dataframe tbody tr th {\n",
       "        vertical-align: top;\n",
       "    }\n",
       "\n",
       "    .dataframe thead th {\n",
       "        text-align: right;\n",
       "    }\n",
       "</style>\n",
       "<table border=\"1\" class=\"dataframe\">\n",
       "  <thead>\n",
       "    <tr style=\"text-align: right;\">\n",
       "      <th></th>\n",
       "      <th>id</th>\n",
       "      <th>text</th>\n",
       "      <th>is_retweet</th>\n",
       "      <th>retweet_id</th>\n",
       "      <th>is_quote</th>\n",
       "      <th>quote_id</th>\n",
       "      <th>is_reply</th>\n",
       "      <th>reply_to_status_id</th>\n",
       "      <th>has_icard</th>\n",
       "      <th>response_code</th>\n",
       "    </tr>\n",
       "  </thead>\n",
       "  <tbody>\n",
       "    <tr>\n",
       "      <th>0</th>\n",
       "      <td>988175619098861568</td>\n",
       "      <td>Beim nächsten Ton ist es 0 Uhr: ♩♩♩</td>\n",
       "      <td>False</td>\n",
       "      <td>NaN</td>\n",
       "      <td>False</td>\n",
       "      <td>NaN</td>\n",
       "      <td>False</td>\n",
       "      <td>NaN</td>\n",
       "      <td>False</td>\n",
       "      <td>NaN</td>\n",
       "    </tr>\n",
       "    <tr>\n",
       "      <th>1</th>\n",
       "      <td>988175627453952002</td>\n",
       "      <td>[d] DiplIngMarkus  Verbrauch gestern:  3.71 kWh                      Uptime: 41 days 21:01:04 since 23:48:32 13/10/2017</td>\n",
       "      <td>False</td>\n",
       "      <td>NaN</td>\n",
       "      <td>False</td>\n",
       "      <td>NaN</td>\n",
       "      <td>False</td>\n",
       "      <td>NaN</td>\n",
       "      <td>False</td>\n",
       "      <td>NaN</td>\n",
       "    </tr>\n",
       "    <tr>\n",
       "      <th>2</th>\n",
       "      <td>988175778474020868</td>\n",
       "      <td>Am Rajenbaumturm ★ IRONMAN Challenge | Nachtelf Druide #25 | World of Warcraft | Aloexis: https://t.co/GG6sCorejS via @YouTube</td>\n",
       "      <td>False</td>\n",
       "      <td>NaN</td>\n",
       "      <td>False</td>\n",
       "      <td>NaN</td>\n",
       "      <td>False</td>\n",
       "      <td>NaN</td>\n",
       "      <td>True</td>\n",
       "      <td>200.0</td>\n",
       "    </tr>\n",
       "    <tr>\n",
       "      <th>3</th>\n",
       "      <td>988175828801540097</td>\n",
       "      <td>Ab jetzt ist für 24h Montag</td>\n",
       "      <td>False</td>\n",
       "      <td>NaN</td>\n",
       "      <td>False</td>\n",
       "      <td>NaN</td>\n",
       "      <td>False</td>\n",
       "      <td>NaN</td>\n",
       "      <td>False</td>\n",
       "      <td>NaN</td>\n",
       "    </tr>\n",
       "    <tr>\n",
       "      <th>4</th>\n",
       "      <td>987388203593322496</td>\n",
       "      <td>I’m awaiting the call. https://t.co/baLXYp8JYi</td>\n",
       "      <td>False</td>\n",
       "      <td>NaN</td>\n",
       "      <td>False</td>\n",
       "      <td>NaN</td>\n",
       "      <td>False</td>\n",
       "      <td>NaN</td>\n",
       "      <td>False</td>\n",
       "      <td>NaN</td>\n",
       "    </tr>\n",
       "  </tbody>\n",
       "</table>\n",
       "</div>"
      ],
      "text/plain": [
       "                   id  \\\n",
       "0  988175619098861568   \n",
       "1  988175627453952002   \n",
       "2  988175778474020868   \n",
       "3  988175828801540097   \n",
       "4  987388203593322496   \n",
       "\n",
       "                                                                                                                             text  \\\n",
       "0  Beim nächsten Ton ist es 0 Uhr: ♩♩♩                                                                                              \n",
       "1  [d] DiplIngMarkus  Verbrauch gestern:  3.71 kWh                      Uptime: 41 days 21:01:04 since 23:48:32 13/10/2017          \n",
       "2  Am Rajenbaumturm ★ IRONMAN Challenge | Nachtelf Druide #25 | World of Warcraft | Aloexis: https://t.co/GG6sCorejS via @YouTube   \n",
       "3  Ab jetzt ist für 24h Montag                                                                                                      \n",
       "4  I’m awaiting the call. https://t.co/baLXYp8JYi                                                                                   \n",
       "\n",
       "   is_retweet  retweet_id  is_quote  quote_id  is_reply  reply_to_status_id  \\\n",
       "0  False      NaN          False    NaN        False    NaN                   \n",
       "1  False      NaN          False    NaN        False    NaN                   \n",
       "2  False      NaN          False    NaN        False    NaN                   \n",
       "3  False      NaN          False    NaN        False    NaN                   \n",
       "4  False      NaN          False    NaN        False    NaN                   \n",
       "\n",
       "  has_icard  response_code  \n",
       "0  False    NaN             \n",
       "1  False    NaN             \n",
       "2  True      200.0          \n",
       "3  False    NaN             \n",
       "4  False    NaN             "
      ]
     },
     "execution_count": 3,
     "metadata": {},
     "output_type": "execute_result"
    }
   ],
   "source": [
    "tweetsS03 = pd.read_sql_query('''SELECT id, ti.text, is_retweet, retweet_id, is_quote, quote_id, is_reply, reply_to_status_id, tc.has_icard, tc.response_code FROM tweets_info as ti \n",
    "                                 INNER JOIN tweets_icards as tc ON ti.id = tc.tweet_id;''', connS17 )\n",
    "\n",
    "print(\"Number of Tweets: %s\" %len(tweetsS03))\n",
    "tweetsS03.head()"
   ]
  },
  {
   "cell_type": "code",
   "execution_count": 4,
   "metadata": {
    "scrolled": false
   },
   "outputs": [
    {
     "name": "stdout",
     "output_type": "stream",
     "text": [
      "\n",
      "\n",
      "------------------\n",
      "# Retweet: False, Quote: False, Reply: False, iCard: False \n",
      "## Percentage: 33.21%\tCount: 37201\n",
      "\n",
      "Example:\n"
     ]
    },
    {
     "data": {
      "text/html": [
       "<table border=\"1\" class=\"dataframe\">\n",
       "  <thead>\n",
       "    <tr style=\"text-align: right;\">\n",
       "      <th></th>\n",
       "      <th>0</th>\n",
       "    </tr>\n",
       "  </thead>\n",
       "  <tbody>\n",
       "    <tr>\n",
       "      <th>id</th>\n",
       "      <td>988175619098861568</td>\n",
       "    </tr>\n",
       "    <tr>\n",
       "      <th>text</th>\n",
       "      <td>Beim nächsten Ton ist es 0 Uhr: ♩♩♩</td>\n",
       "    </tr>\n",
       "  </tbody>\n",
       "</table>"
      ],
      "text/plain": [
       "<IPython.core.display.HTML object>"
      ]
     },
     "metadata": {},
     "output_type": "display_data"
    },
    {
     "name": "stdout",
     "output_type": "stream",
     "text": [
      "Try this link: http://twitter.com/statuses/988175619098861568\n",
      "\n",
      "------------------\n",
      "\n",
      "\n",
      "\n",
      "\n",
      "------------------\n",
      "# Retweet: False, Quote: False, Reply: False, iCard: True \n",
      "## Percentage: 13.49%\tCount: 15107\n",
      "\n",
      "Example:\n"
     ]
    },
    {
     "data": {
      "text/html": [
       "<table border=\"1\" class=\"dataframe\">\n",
       "  <thead>\n",
       "    <tr style=\"text-align: right;\">\n",
       "      <th></th>\n",
       "      <th>2</th>\n",
       "    </tr>\n",
       "  </thead>\n",
       "  <tbody>\n",
       "    <tr>\n",
       "      <th>id</th>\n",
       "      <td>988175778474020868</td>\n",
       "    </tr>\n",
       "    <tr>\n",
       "      <th>text</th>\n",
       "      <td>Am Rajenbaumturm ★ IRONMAN Challenge | Nachtelf Druide #25 | World of Warcraft | Aloexis: https://t.co/GG6sCorejS via @YouTube</td>\n",
       "    </tr>\n",
       "  </tbody>\n",
       "</table>"
      ],
      "text/plain": [
       "<IPython.core.display.HTML object>"
      ]
     },
     "metadata": {},
     "output_type": "display_data"
    },
    {
     "name": "stdout",
     "output_type": "stream",
     "text": [
      "Try this link: http://twitter.com/statuses/988175778474020868\n",
      "\n",
      "------------------\n",
      "\n",
      "\n",
      "\n",
      "\n",
      "------------------\n",
      "# Retweet: False, Quote: False, Reply: True, iCard: False \n",
      "## Percentage: 22.86%\tCount: 25599\n",
      "\n",
      "Example:\n"
     ]
    },
    {
     "data": {
      "text/html": [
       "<table border=\"1\" class=\"dataframe\">\n",
       "  <thead>\n",
       "    <tr style=\"text-align: right;\">\n",
       "      <th></th>\n",
       "      <th>6</th>\n",
       "    </tr>\n",
       "  </thead>\n",
       "  <tbody>\n",
       "    <tr>\n",
       "      <th>id</th>\n",
       "      <td>988176042723594242</td>\n",
       "    </tr>\n",
       "    <tr>\n",
       "      <th>text</th>\n",
       "      <td>@RealLittleNicky Was für schöne Augen</td>\n",
       "    </tr>\n",
       "  </tbody>\n",
       "</table>"
      ],
      "text/plain": [
       "<IPython.core.display.HTML object>"
      ]
     },
     "metadata": {},
     "output_type": "display_data"
    },
    {
     "name": "stdout",
     "output_type": "stream",
     "text": [
      "Try this link: http://twitter.com/statuses/988176042723594242\n",
      "\n",
      "\n",
      "Tweet is a reply to this Tweet:\n"
     ]
    },
    {
     "data": {
      "text/html": [
       "<table border=\"1\" class=\"dataframe\">\n",
       "  <thead>\n",
       "    <tr style=\"text-align: right;\">\n",
       "      <th></th>\n",
       "      <th>id</th>\n",
       "      <th>text</th>\n",
       "      <th>is_retweet</th>\n",
       "      <th>retweet_id</th>\n",
       "      <th>is_quote</th>\n",
       "      <th>quote_id</th>\n",
       "      <th>is_reply</th>\n",
       "      <th>reply_to_status_id</th>\n",
       "      <th>has_icard</th>\n",
       "      <th>response_code</th>\n",
       "    </tr>\n",
       "  </thead>\n",
       "  <tbody>\n",
       "  </tbody>\n",
       "</table>"
      ],
      "text/plain": [
       "<IPython.core.display.HTML object>"
      ]
     },
     "metadata": {},
     "output_type": "display_data"
    },
    {
     "name": "stdout",
     "output_type": "stream",
     "text": [
      "------------------\n",
      "\n",
      "\n",
      "\n",
      "\n",
      "------------------\n",
      "# Retweet: False, Quote: False, Reply: True, iCard: True \n",
      "## Percentage: 0.74%\tCount: 833\n",
      "\n",
      "Example:\n"
     ]
    },
    {
     "data": {
      "text/html": [
       "<table border=\"1\" class=\"dataframe\">\n",
       "  <thead>\n",
       "    <tr style=\"text-align: right;\">\n",
       "      <th></th>\n",
       "      <th>390</th>\n",
       "    </tr>\n",
       "  </thead>\n",
       "  <tbody>\n",
       "    <tr>\n",
       "      <th>id</th>\n",
       "      <td>988104859801956353</td>\n",
       "    </tr>\n",
       "    <tr>\n",
       "      <th>text</th>\n",
       "      <td>Niel Jackson ladies and gentlemen 🕺🏻\\n\\n#TEENTOP2018EUROPE #TeenTopInParis https://t.co/P2uwoKX9ta</td>\n",
       "    </tr>\n",
       "  </tbody>\n",
       "</table>"
      ],
      "text/plain": [
       "<IPython.core.display.HTML object>"
      ]
     },
     "metadata": {},
     "output_type": "display_data"
    },
    {
     "name": "stdout",
     "output_type": "stream",
     "text": [
      "Try this link: http://twitter.com/statuses/988104859801956353\n",
      "\n",
      "\n",
      "Tweet is a reply to this Tweet:\n"
     ]
    },
    {
     "data": {
      "text/html": [
       "<table border=\"1\" class=\"dataframe\">\n",
       "  <thead>\n",
       "    <tr style=\"text-align: right;\">\n",
       "      <th></th>\n",
       "      <th>id</th>\n",
       "      <th>text</th>\n",
       "      <th>is_retweet</th>\n",
       "      <th>retweet_id</th>\n",
       "      <th>is_quote</th>\n",
       "      <th>quote_id</th>\n",
       "      <th>is_reply</th>\n",
       "      <th>reply_to_status_id</th>\n",
       "      <th>has_icard</th>\n",
       "      <th>response_code</th>\n",
       "    </tr>\n",
       "  </thead>\n",
       "  <tbody>\n",
       "  </tbody>\n",
       "</table>"
      ],
      "text/plain": [
       "<IPython.core.display.HTML object>"
      ]
     },
     "metadata": {},
     "output_type": "display_data"
    },
    {
     "name": "stdout",
     "output_type": "stream",
     "text": [
      "------------------\n",
      "\n",
      "\n",
      "\n",
      "\n",
      "------------------\n",
      "# Retweet: False, Quote: True, Reply: False, iCard: False \n",
      "## Percentage: 4.12%\tCount: 4613\n",
      "\n",
      "Example:\n"
     ]
    },
    {
     "data": {
      "text/html": [
       "<table border=\"1\" class=\"dataframe\">\n",
       "  <thead>\n",
       "    <tr style=\"text-align: right;\">\n",
       "      <th></th>\n",
       "      <th>43</th>\n",
       "    </tr>\n",
       "  </thead>\n",
       "  <tbody>\n",
       "    <tr>\n",
       "      <th>id</th>\n",
       "      <td>988141092620111872</td>\n",
       "    </tr>\n",
       "    <tr>\n",
       "      <th>text</th>\n",
       "      <td>Das bayerische Psychiatriegesetz betrifft nicht nur Bayern, sondern kann bald alle Menschen in Deutschland betreffen, die psychisch krank sind oder es einmal werden. Psychische Erkrankungen können jede*n treffen. https://t.co/uqD8XhDn0V</td>\n",
       "    </tr>\n",
       "  </tbody>\n",
       "</table>"
      ],
      "text/plain": [
       "<IPython.core.display.HTML object>"
      ]
     },
     "metadata": {},
     "output_type": "display_data"
    },
    {
     "name": "stdout",
     "output_type": "stream",
     "text": [
      "Try this link: http://twitter.com/statuses/988141092620111872\n",
      "\n",
      "\n",
      "Tweet is based on this Quote:\n"
     ]
    },
    {
     "data": {
      "text/html": [
       "<table border=\"1\" class=\"dataframe\">\n",
       "  <thead>\n",
       "    <tr style=\"text-align: right;\">\n",
       "      <th></th>\n",
       "      <th>id</th>\n",
       "      <th>text</th>\n",
       "      <th>is_retweet</th>\n",
       "      <th>retweet_id</th>\n",
       "      <th>is_quote</th>\n",
       "      <th>quote_id</th>\n",
       "      <th>is_reply</th>\n",
       "      <th>reply_to_status_id</th>\n",
       "      <th>has_icard</th>\n",
       "      <th>response_code</th>\n",
       "    </tr>\n",
       "  </thead>\n",
       "  <tbody>\n",
       "    <tr>\n",
       "      <th>45</th>\n",
       "      <td>988132038095134722</td>\n",
       "      <td>Wenn ihr euch fragt, warum ein Baden Württemberger und eine Berlinerin eine Petition gegen ein bayerisches Gesetz starten. Seehofer hat es ja schon angedroht, das #pag sei beispielhaft. Als ob das beim #Psychiatriegesetz anders wäre.</td>\n",
       "      <td>False</td>\n",
       "      <td>NaN</td>\n",
       "      <td>False</td>\n",
       "      <td>NaN</td>\n",
       "      <td>False</td>\n",
       "      <td>NaN</td>\n",
       "      <td>False</td>\n",
       "      <td>NaN</td>\n",
       "    </tr>\n",
       "  </tbody>\n",
       "</table>"
      ],
      "text/plain": [
       "<IPython.core.display.HTML object>"
      ]
     },
     "metadata": {},
     "output_type": "display_data"
    },
    {
     "name": "stdout",
     "output_type": "stream",
     "text": [
      "------------------\n",
      "\n",
      "\n",
      "\n",
      "\n",
      "------------------\n",
      "# Retweet: False, Quote: True, Reply: False, iCard: True \n",
      "## Percentage: 0.08%\tCount: 92\n",
      "\n",
      "Example:\n"
     ]
    },
    {
     "data": {
      "text/html": [
       "<table border=\"1\" class=\"dataframe\">\n",
       "  <thead>\n",
       "    <tr style=\"text-align: right;\">\n",
       "      <th></th>\n",
       "      <th>1383</th>\n",
       "    </tr>\n",
       "  </thead>\n",
       "  <tbody>\n",
       "    <tr>\n",
       "      <th>id</th>\n",
       "      <td>988298222778056705</td>\n",
       "    </tr>\n",
       "    <tr>\n",
       "      <th>text</th>\n",
       "      <td>Beliebtes Transfergerücht auf https://t.co/ZF6LYmla4P #BL #Bundesliga https://t.co/p15WQr6aCs</td>\n",
       "    </tr>\n",
       "  </tbody>\n",
       "</table>"
      ],
      "text/plain": [
       "<IPython.core.display.HTML object>"
      ]
     },
     "metadata": {},
     "output_type": "display_data"
    },
    {
     "name": "stdout",
     "output_type": "stream",
     "text": [
      "Try this link: http://twitter.com/statuses/988298222778056705\n",
      "\n",
      "\n",
      "Tweet is based on this Quote:\n"
     ]
    },
    {
     "data": {
      "text/html": [
       "<table border=\"1\" class=\"dataframe\">\n",
       "  <thead>\n",
       "    <tr style=\"text-align: right;\">\n",
       "      <th></th>\n",
       "      <th>id</th>\n",
       "      <th>text</th>\n",
       "      <th>is_retweet</th>\n",
       "      <th>retweet_id</th>\n",
       "      <th>is_quote</th>\n",
       "      <th>quote_id</th>\n",
       "      <th>is_reply</th>\n",
       "      <th>reply_to_status_id</th>\n",
       "      <th>has_icard</th>\n",
       "      <th>response_code</th>\n",
       "    </tr>\n",
       "  </thead>\n",
       "  <tbody>\n",
       "    <tr>\n",
       "      <th>1382</th>\n",
       "      <td>988296936166961152</td>\n",
       "      <td>#Anfang könnte durch den anstehenden Sommertransfer zum #effzeh„absteigen“... https://t.co/ob7QjOySXH</td>\n",
       "      <td>False</td>\n",
       "      <td>NaN</td>\n",
       "      <td>False</td>\n",
       "      <td>NaN</td>\n",
       "      <td>False</td>\n",
       "      <td>NaN</td>\n",
       "      <td>False</td>\n",
       "      <td>NaN</td>\n",
       "    </tr>\n",
       "  </tbody>\n",
       "</table>"
      ],
      "text/plain": [
       "<IPython.core.display.HTML object>"
      ]
     },
     "metadata": {},
     "output_type": "display_data"
    },
    {
     "name": "stdout",
     "output_type": "stream",
     "text": [
      "------------------\n",
      "\n",
      "\n",
      "\n",
      "\n",
      "------------------\n",
      "# Retweet: False, Quote: True, Reply: True, iCard: False \n",
      "## Percentage: 0.12%\tCount: 137\n",
      "\n",
      "Example:\n"
     ]
    },
    {
     "data": {
      "text/html": [
       "<table border=\"1\" class=\"dataframe\">\n",
       "  <thead>\n",
       "    <tr style=\"text-align: right;\">\n",
       "      <th></th>\n",
       "      <th>2242</th>\n",
       "    </tr>\n",
       "  </thead>\n",
       "  <tbody>\n",
       "    <tr>\n",
       "      <th>id</th>\n",
       "      <td>988123531622961152</td>\n",
       "    </tr>\n",
       "    <tr>\n",
       "      <th>text</th>\n",
       "      <td>@cmonNl @Anna50666690 @jm_clavero @FCBayern #Fans, zieht bitte beim Spiel gegen @realmadrid #GelbeTshirts an! Es geht um freie #Meinungsäußerung und #Demokratie. Gestern beschlagnahmte diese, den @FCBarcelona #Fans, die spanische @policia vor den Königscup Endspiel in Madrid. #CopaDelRey\\nhttps://t.co/CsxAQfaQFd</td>\n",
       "    </tr>\n",
       "  </tbody>\n",
       "</table>"
      ],
      "text/plain": [
       "<IPython.core.display.HTML object>"
      ]
     },
     "metadata": {},
     "output_type": "display_data"
    },
    {
     "name": "stdout",
     "output_type": "stream",
     "text": [
      "Try this link: http://twitter.com/statuses/988123531622961152\n",
      "\n",
      "\n",
      "Tweet is based on this Quote:\n"
     ]
    },
    {
     "data": {
      "text/html": [
       "<table border=\"1\" class=\"dataframe\">\n",
       "  <thead>\n",
       "    <tr style=\"text-align: right;\">\n",
       "      <th></th>\n",
       "      <th>id</th>\n",
       "      <th>text</th>\n",
       "      <th>is_retweet</th>\n",
       "      <th>retweet_id</th>\n",
       "      <th>is_quote</th>\n",
       "      <th>quote_id</th>\n",
       "      <th>is_reply</th>\n",
       "      <th>reply_to_status_id</th>\n",
       "      <th>has_icard</th>\n",
       "      <th>response_code</th>\n",
       "    </tr>\n",
       "  </thead>\n",
       "  <tbody>\n",
       "    <tr>\n",
       "      <th>58019</th>\n",
       "      <td>987798883005853697</td>\n",
       "      <td>If a simple colour is now an offence against the state, what's next? Spanish political police 🚫 #copadelreyfinal https://t.co/8H4yRuZQR8</td>\n",
       "      <td>False</td>\n",
       "      <td>NaN</td>\n",
       "      <td>False</td>\n",
       "      <td>NaN</td>\n",
       "      <td>False</td>\n",
       "      <td>NaN</td>\n",
       "      <td>True</td>\n",
       "      <td>NaN</td>\n",
       "    </tr>\n",
       "  </tbody>\n",
       "</table>"
      ],
      "text/plain": [
       "<IPython.core.display.HTML object>"
      ]
     },
     "metadata": {},
     "output_type": "display_data"
    },
    {
     "name": "stdout",
     "output_type": "stream",
     "text": [
      "\n",
      "Tweet is a reply to this Tweet:\n"
     ]
    },
    {
     "data": {
      "text/html": [
       "<table border=\"1\" class=\"dataframe\">\n",
       "  <thead>\n",
       "    <tr style=\"text-align: right;\">\n",
       "      <th></th>\n",
       "      <th>id</th>\n",
       "      <th>text</th>\n",
       "      <th>is_retweet</th>\n",
       "      <th>retweet_id</th>\n",
       "      <th>is_quote</th>\n",
       "      <th>quote_id</th>\n",
       "      <th>is_reply</th>\n",
       "      <th>reply_to_status_id</th>\n",
       "      <th>has_icard</th>\n",
       "      <th>response_code</th>\n",
       "    </tr>\n",
       "  </thead>\n",
       "  <tbody>\n",
       "  </tbody>\n",
       "</table>"
      ],
      "text/plain": [
       "<IPython.core.display.HTML object>"
      ]
     },
     "metadata": {},
     "output_type": "display_data"
    },
    {
     "name": "stdout",
     "output_type": "stream",
     "text": [
      "------------------\n",
      "\n",
      "\n",
      "\n",
      "\n",
      "------------------\n",
      "# Retweet: False, Quote: True, Reply: True, iCard: True \n",
      "## Percentage: 0.00%\tCount: 4\n",
      "\n",
      "Example:\n"
     ]
    },
    {
     "data": {
      "text/html": [
       "<table border=\"1\" class=\"dataframe\">\n",
       "  <thead>\n",
       "    <tr style=\"text-align: right;\">\n",
       "      <th></th>\n",
       "      <th>22170</th>\n",
       "    </tr>\n",
       "  </thead>\n",
       "  <tbody>\n",
       "    <tr>\n",
       "      <th>id</th>\n",
       "      <td>989168868013826048</td>\n",
       "    </tr>\n",
       "    <tr>\n",
       "      <th>text</th>\n",
       "      <td>@MarcoBuschmann @fdpbt Kippa u Davidstern = Rassismussymbole f. jüdischen Antisemitismus, der jede Woche Semiten tötet.\\n\\nBoycott the hatefactory #ApartheidIsrael, the racistic #Jewcracy!\\nhttps://t.co/j50Mr2keVP\\nhttps://t.co/nexNXuSD8t</td>\n",
       "    </tr>\n",
       "  </tbody>\n",
       "</table>"
      ],
      "text/plain": [
       "<IPython.core.display.HTML object>"
      ]
     },
     "metadata": {},
     "output_type": "display_data"
    },
    {
     "name": "stdout",
     "output_type": "stream",
     "text": [
      "Try this link: http://twitter.com/statuses/989168868013826048\n",
      "\n",
      "\n",
      "Tweet is based on this Quote:\n"
     ]
    },
    {
     "data": {
      "text/html": [
       "<table border=\"1\" class=\"dataframe\">\n",
       "  <thead>\n",
       "    <tr style=\"text-align: right;\">\n",
       "      <th></th>\n",
       "      <th>id</th>\n",
       "      <th>text</th>\n",
       "      <th>is_retweet</th>\n",
       "      <th>retweet_id</th>\n",
       "      <th>is_quote</th>\n",
       "      <th>quote_id</th>\n",
       "      <th>is_reply</th>\n",
       "      <th>reply_to_status_id</th>\n",
       "      <th>has_icard</th>\n",
       "      <th>response_code</th>\n",
       "    </tr>\n",
       "  </thead>\n",
       "  <tbody>\n",
       "    <tr>\n",
       "      <th>22467</th>\n",
       "      <td>989168463020208132</td>\n",
       "      <td>Kippa = auch Symbol für jüdischen Rassismus, Apartheid, israel. Folter, ethnische Säuberungen. https://t.co/8325M8QwQi</td>\n",
       "      <td>False</td>\n",
       "      <td>NaN</td>\n",
       "      <td>False</td>\n",
       "      <td>NaN</td>\n",
       "      <td>False</td>\n",
       "      <td>NaN</td>\n",
       "      <td>False</td>\n",
       "      <td>NaN</td>\n",
       "    </tr>\n",
       "  </tbody>\n",
       "</table>"
      ],
      "text/plain": [
       "<IPython.core.display.HTML object>"
      ]
     },
     "metadata": {},
     "output_type": "display_data"
    },
    {
     "name": "stdout",
     "output_type": "stream",
     "text": [
      "\n",
      "Tweet is a reply to this Tweet:\n"
     ]
    },
    {
     "data": {
      "text/html": [
       "<table border=\"1\" class=\"dataframe\">\n",
       "  <thead>\n",
       "    <tr style=\"text-align: right;\">\n",
       "      <th></th>\n",
       "      <th>id</th>\n",
       "      <th>text</th>\n",
       "      <th>is_retweet</th>\n",
       "      <th>retweet_id</th>\n",
       "      <th>is_quote</th>\n",
       "      <th>quote_id</th>\n",
       "      <th>is_reply</th>\n",
       "      <th>reply_to_status_id</th>\n",
       "      <th>has_icard</th>\n",
       "      <th>response_code</th>\n",
       "    </tr>\n",
       "  </thead>\n",
       "  <tbody>\n",
       "  </tbody>\n",
       "</table>"
      ],
      "text/plain": [
       "<IPython.core.display.HTML object>"
      ]
     },
     "metadata": {},
     "output_type": "display_data"
    },
    {
     "name": "stdout",
     "output_type": "stream",
     "text": [
      "------------------\n",
      "\n",
      "\n",
      "\n",
      "\n",
      "------------------\n",
      "# Retweet: True, Quote: False, Reply: False, iCard: False \n",
      "## Percentage: 18.19%\tCount: 20369\n",
      "\n",
      "Example:\n"
     ]
    },
    {
     "data": {
      "text/html": [
       "<table border=\"1\" class=\"dataframe\">\n",
       "  <thead>\n",
       "    <tr style=\"text-align: right;\">\n",
       "      <th></th>\n",
       "      <th>5</th>\n",
       "    </tr>\n",
       "  </thead>\n",
       "  <tbody>\n",
       "    <tr>\n",
       "      <th>id</th>\n",
       "      <td>988176021726941185</td>\n",
       "    </tr>\n",
       "    <tr>\n",
       "      <th>text</th>\n",
       "      <td>RT @Payzn_: ❤ und du bekommst ein Wort!\\n🔁 und du bekommst ein Satz!\\n\\nAlter ich werd echt 0815 twitter user</td>\n",
       "    </tr>\n",
       "  </tbody>\n",
       "</table>"
      ],
      "text/plain": [
       "<IPython.core.display.HTML object>"
      ]
     },
     "metadata": {},
     "output_type": "display_data"
    },
    {
     "name": "stdout",
     "output_type": "stream",
     "text": [
      "Try this link: http://twitter.com/statuses/988176021726941185\n",
      "\n",
      "\n",
      "Tweet is based on this Retweet:\n"
     ]
    },
    {
     "data": {
      "text/html": [
       "<table border=\"1\" class=\"dataframe\">\n",
       "  <thead>\n",
       "    <tr style=\"text-align: right;\">\n",
       "      <th></th>\n",
       "      <th>id</th>\n",
       "      <th>text</th>\n",
       "      <th>is_retweet</th>\n",
       "      <th>retweet_id</th>\n",
       "      <th>is_quote</th>\n",
       "      <th>quote_id</th>\n",
       "      <th>is_reply</th>\n",
       "      <th>reply_to_status_id</th>\n",
       "      <th>has_icard</th>\n",
       "      <th>response_code</th>\n",
       "    </tr>\n",
       "  </thead>\n",
       "  <tbody>\n",
       "    <tr>\n",
       "      <th>55876</th>\n",
       "      <td>988161118286876678</td>\n",
       "      <td>❤ und du bekommst ein Wort!\\n🔁 und du bekommst ein Satz!\\n\\nAlter ich werd echt 0815 twitter user</td>\n",
       "      <td>False</td>\n",
       "      <td>NaN</td>\n",
       "      <td>False</td>\n",
       "      <td>NaN</td>\n",
       "      <td>False</td>\n",
       "      <td>NaN</td>\n",
       "      <td>False</td>\n",
       "      <td>NaN</td>\n",
       "    </tr>\n",
       "  </tbody>\n",
       "</table>"
      ],
      "text/plain": [
       "<IPython.core.display.HTML object>"
      ]
     },
     "metadata": {},
     "output_type": "display_data"
    },
    {
     "name": "stdout",
     "output_type": "stream",
     "text": [
      "------------------\n",
      "\n",
      "\n",
      "\n",
      "\n",
      "------------------\n",
      "# Retweet: True, Quote: False, Reply: False, iCard: True \n",
      "## Percentage: 5.31%\tCount: 5944\n",
      "\n",
      "Example:\n"
     ]
    },
    {
     "data": {
      "text/html": [
       "<table border=\"1\" class=\"dataframe\">\n",
       "  <thead>\n",
       "    <tr style=\"text-align: right;\">\n",
       "      <th></th>\n",
       "      <th>27</th>\n",
       "    </tr>\n",
       "  </thead>\n",
       "  <tbody>\n",
       "    <tr>\n",
       "      <th>id</th>\n",
       "      <td>988177036744241152</td>\n",
       "    </tr>\n",
       "    <tr>\n",
       "      <th>text</th>\n",
       "      <td>RT @deinTherapeut: Hatte ein Dutzend Gewürzgurken im Mund, nichts ist mehr peinlich.\\n\\nhttps://t.co/wgXPGSXAUw https://t.co/v3EQp4A3tS</td>\n",
       "    </tr>\n",
       "  </tbody>\n",
       "</table>"
      ],
      "text/plain": [
       "<IPython.core.display.HTML object>"
      ]
     },
     "metadata": {},
     "output_type": "display_data"
    },
    {
     "name": "stdout",
     "output_type": "stream",
     "text": [
      "Try this link: http://twitter.com/statuses/988177036744241152\n",
      "\n",
      "\n",
      "Tweet is based on this Retweet:\n"
     ]
    },
    {
     "data": {
      "text/html": [
       "<table border=\"1\" class=\"dataframe\">\n",
       "  <thead>\n",
       "    <tr style=\"text-align: right;\">\n",
       "      <th></th>\n",
       "      <th>id</th>\n",
       "      <th>text</th>\n",
       "      <th>is_retweet</th>\n",
       "      <th>retweet_id</th>\n",
       "      <th>is_quote</th>\n",
       "      <th>quote_id</th>\n",
       "      <th>is_reply</th>\n",
       "      <th>reply_to_status_id</th>\n",
       "      <th>has_icard</th>\n",
       "      <th>response_code</th>\n",
       "    </tr>\n",
       "  </thead>\n",
       "  <tbody>\n",
       "    <tr>\n",
       "      <th>55894</th>\n",
       "      <td>988152079490473990</td>\n",
       "      <td>Hatte ein Dutzend Gewürzgurken im Mund, nichts ist mehr peinlich.\\n\\nhttps://t.co/wgXPGSXAUw https://t.co/v3EQp4A3tS</td>\n",
       "      <td>False</td>\n",
       "      <td>NaN</td>\n",
       "      <td>False</td>\n",
       "      <td>NaN</td>\n",
       "      <td>False</td>\n",
       "      <td>NaN</td>\n",
       "      <td>True</td>\n",
       "      <td>NaN</td>\n",
       "    </tr>\n",
       "  </tbody>\n",
       "</table>"
      ],
      "text/plain": [
       "<IPython.core.display.HTML object>"
      ]
     },
     "metadata": {},
     "output_type": "display_data"
    },
    {
     "name": "stdout",
     "output_type": "stream",
     "text": [
      "------------------\n",
      "\n",
      "\n",
      "\n",
      "\n",
      "------------------\n",
      "# Retweet: True, Quote: False, Reply: True, iCard: False \n",
      "## Percentage: 0.00%\tCount: 0\n",
      "\n",
      "------------------\n",
      "\n",
      "\n",
      "\n",
      "\n",
      "------------------\n",
      "# Retweet: True, Quote: False, Reply: True, iCard: True \n",
      "## Percentage: 0.00%\tCount: 0\n",
      "\n",
      "------------------\n",
      "\n",
      "\n",
      "\n",
      "\n",
      "------------------\n",
      "# Retweet: True, Quote: True, Reply: False, iCard: False \n",
      "## Percentage: 1.83%\tCount: 2047\n",
      "\n",
      "Example:\n"
     ]
    },
    {
     "data": {
      "text/html": [
       "<table border=\"1\" class=\"dataframe\">\n",
       "  <thead>\n",
       "    <tr style=\"text-align: right;\">\n",
       "      <th></th>\n",
       "      <th>46</th>\n",
       "    </tr>\n",
       "  </thead>\n",
       "  <tbody>\n",
       "    <tr>\n",
       "      <th>id</th>\n",
       "      <td>988178190211444737</td>\n",
       "    </tr>\n",
       "    <tr>\n",
       "      <th>text</th>\n",
       "      <td>RT @_lebensfaden: Das bayerische Psychiatriegesetz betrifft nicht nur Bayern, sondern kann bald alle Menschen in Deutschland betreffen, die…</td>\n",
       "    </tr>\n",
       "  </tbody>\n",
       "</table>"
      ],
      "text/plain": [
       "<IPython.core.display.HTML object>"
      ]
     },
     "metadata": {},
     "output_type": "display_data"
    },
    {
     "name": "stdout",
     "output_type": "stream",
     "text": [
      "Try this link: http://twitter.com/statuses/988178190211444737\n",
      "\n",
      "\n",
      "Tweet is based on this Retweet:\n"
     ]
    },
    {
     "data": {
      "text/html": [
       "<table border=\"1\" class=\"dataframe\">\n",
       "  <thead>\n",
       "    <tr style=\"text-align: right;\">\n",
       "      <th></th>\n",
       "      <th>id</th>\n",
       "      <th>text</th>\n",
       "      <th>is_retweet</th>\n",
       "      <th>retweet_id</th>\n",
       "      <th>is_quote</th>\n",
       "      <th>quote_id</th>\n",
       "      <th>is_reply</th>\n",
       "      <th>reply_to_status_id</th>\n",
       "      <th>has_icard</th>\n",
       "      <th>response_code</th>\n",
       "    </tr>\n",
       "  </thead>\n",
       "  <tbody>\n",
       "    <tr>\n",
       "      <th>43</th>\n",
       "      <td>988141092620111872</td>\n",
       "      <td>Das bayerische Psychiatriegesetz betrifft nicht nur Bayern, sondern kann bald alle Menschen in Deutschland betreffen, die psychisch krank sind oder es einmal werden. Psychische Erkrankungen können jede*n treffen. https://t.co/uqD8XhDn0V</td>\n",
       "      <td>False</td>\n",
       "      <td>NaN</td>\n",
       "      <td>True</td>\n",
       "      <td>9.881320e+17</td>\n",
       "      <td>False</td>\n",
       "      <td>NaN</td>\n",
       "      <td>False</td>\n",
       "      <td>NaN</td>\n",
       "    </tr>\n",
       "  </tbody>\n",
       "</table>"
      ],
      "text/plain": [
       "<IPython.core.display.HTML object>"
      ]
     },
     "metadata": {},
     "output_type": "display_data"
    },
    {
     "name": "stdout",
     "output_type": "stream",
     "text": [
      "\n",
      "Tweet is based on this Quote:\n"
     ]
    },
    {
     "data": {
      "text/html": [
       "<table border=\"1\" class=\"dataframe\">\n",
       "  <thead>\n",
       "    <tr style=\"text-align: right;\">\n",
       "      <th></th>\n",
       "      <th>id</th>\n",
       "      <th>text</th>\n",
       "      <th>is_retweet</th>\n",
       "      <th>retweet_id</th>\n",
       "      <th>is_quote</th>\n",
       "      <th>quote_id</th>\n",
       "      <th>is_reply</th>\n",
       "      <th>reply_to_status_id</th>\n",
       "      <th>has_icard</th>\n",
       "      <th>response_code</th>\n",
       "    </tr>\n",
       "  </thead>\n",
       "  <tbody>\n",
       "    <tr>\n",
       "      <th>45</th>\n",
       "      <td>988132038095134722</td>\n",
       "      <td>Wenn ihr euch fragt, warum ein Baden Württemberger und eine Berlinerin eine Petition gegen ein bayerisches Gesetz starten. Seehofer hat es ja schon angedroht, das #pag sei beispielhaft. Als ob das beim #Psychiatriegesetz anders wäre.</td>\n",
       "      <td>False</td>\n",
       "      <td>NaN</td>\n",
       "      <td>False</td>\n",
       "      <td>NaN</td>\n",
       "      <td>False</td>\n",
       "      <td>NaN</td>\n",
       "      <td>False</td>\n",
       "      <td>NaN</td>\n",
       "    </tr>\n",
       "  </tbody>\n",
       "</table>"
      ],
      "text/plain": [
       "<IPython.core.display.HTML object>"
      ]
     },
     "metadata": {},
     "output_type": "display_data"
    },
    {
     "name": "stdout",
     "output_type": "stream",
     "text": [
      "------------------\n",
      "\n",
      "\n",
      "\n",
      "\n",
      "------------------\n",
      "# Retweet: True, Quote: True, Reply: False, iCard: True \n",
      "## Percentage: 0.05%\tCount: 53\n",
      "\n",
      "Example:\n"
     ]
    },
    {
     "data": {
      "text/html": [
       "<table border=\"1\" class=\"dataframe\">\n",
       "  <thead>\n",
       "    <tr style=\"text-align: right;\">\n",
       "      <th></th>\n",
       "      <th>1303</th>\n",
       "    </tr>\n",
       "  </thead>\n",
       "  <tbody>\n",
       "    <tr>\n",
       "      <th>id</th>\n",
       "      <td>988295978842316801</td>\n",
       "    </tr>\n",
       "    <tr>\n",
       "      <th>text</th>\n",
       "      <td>RT @nona_christine: Weil immer wieder die Frage auftaucht, wo man rassistische Inhalte melden kann:\\n\\nhttps://t.co/N9eLUmmdSC\\n\\nhttps://t.co/…</td>\n",
       "    </tr>\n",
       "  </tbody>\n",
       "</table>"
      ],
      "text/plain": [
       "<IPython.core.display.HTML object>"
      ]
     },
     "metadata": {},
     "output_type": "display_data"
    },
    {
     "name": "stdout",
     "output_type": "stream",
     "text": [
      "Try this link: http://twitter.com/statuses/988295978842316801\n",
      "\n",
      "\n",
      "Tweet is based on this Retweet:\n"
     ]
    },
    {
     "data": {
      "text/html": [
       "<table border=\"1\" class=\"dataframe\">\n",
       "  <thead>\n",
       "    <tr style=\"text-align: right;\">\n",
       "      <th></th>\n",
       "      <th>id</th>\n",
       "      <th>text</th>\n",
       "      <th>is_retweet</th>\n",
       "      <th>retweet_id</th>\n",
       "      <th>is_quote</th>\n",
       "      <th>quote_id</th>\n",
       "      <th>is_reply</th>\n",
       "      <th>reply_to_status_id</th>\n",
       "      <th>has_icard</th>\n",
       "      <th>response_code</th>\n",
       "    </tr>\n",
       "  </thead>\n",
       "  <tbody>\n",
       "    <tr>\n",
       "      <th>57140</th>\n",
       "      <td>987987749612478464</td>\n",
       "      <td>Weil immer wieder die Frage auftaucht, wo man rassistische Inhalte melden kann:\\n\\nhttps://t.co/N9eLUmmdSC\\n\\nhttps://t.co/hS94ZjPvvR (auch auf Twitter)\\n\\nDanke @NinaHoraczek  (der Artikel hat mich angeregt, die Links rauszusuchen) https://t.co/2WXX94PgnI</td>\n",
       "      <td>False</td>\n",
       "      <td>NaN</td>\n",
       "      <td>True</td>\n",
       "      <td>9.879461e+17</td>\n",
       "      <td>False</td>\n",
       "      <td>NaN</td>\n",
       "      <td>True</td>\n",
       "      <td>200.0</td>\n",
       "    </tr>\n",
       "  </tbody>\n",
       "</table>"
      ],
      "text/plain": [
       "<IPython.core.display.HTML object>"
      ]
     },
     "metadata": {},
     "output_type": "display_data"
    },
    {
     "name": "stdout",
     "output_type": "stream",
     "text": [
      "\n",
      "Tweet is based on this Quote:\n"
     ]
    },
    {
     "data": {
      "text/html": [
       "<table border=\"1\" class=\"dataframe\">\n",
       "  <thead>\n",
       "    <tr style=\"text-align: right;\">\n",
       "      <th></th>\n",
       "      <th>id</th>\n",
       "      <th>text</th>\n",
       "      <th>is_retweet</th>\n",
       "      <th>retweet_id</th>\n",
       "      <th>is_quote</th>\n",
       "      <th>quote_id</th>\n",
       "      <th>is_reply</th>\n",
       "      <th>reply_to_status_id</th>\n",
       "      <th>has_icard</th>\n",
       "      <th>response_code</th>\n",
       "    </tr>\n",
       "  </thead>\n",
       "  <tbody>\n",
       "    <tr>\n",
       "      <th>1302</th>\n",
       "      <td>987946091235725312</td>\n",
       "      <td>“Wir müssen sehr wachsam sein”: Die österreichische Journalistin und Gatterer-Preisträgerin @NinaHoraczek über Populismus und Dumpfheit, die Stimmung im schwarz-blauen Österreich und eine Jobgarantie für kritische JournalistInnen. https://t.co/tHKzIgYS4h</td>\n",
       "      <td>False</td>\n",
       "      <td>NaN</td>\n",
       "      <td>False</td>\n",
       "      <td>NaN</td>\n",
       "      <td>False</td>\n",
       "      <td>NaN</td>\n",
       "      <td>True</td>\n",
       "      <td>200.0</td>\n",
       "    </tr>\n",
       "  </tbody>\n",
       "</table>"
      ],
      "text/plain": [
       "<IPython.core.display.HTML object>"
      ]
     },
     "metadata": {},
     "output_type": "display_data"
    },
    {
     "name": "stdout",
     "output_type": "stream",
     "text": [
      "------------------\n",
      "\n",
      "\n",
      "\n",
      "\n",
      "------------------\n",
      "# Retweet: True, Quote: True, Reply: True, iCard: False \n",
      "## Percentage: 0.00%\tCount: 0\n",
      "\n",
      "------------------\n",
      "\n",
      "\n",
      "\n",
      "\n",
      "------------------\n",
      "# Retweet: True, Quote: True, Reply: True, iCard: True \n",
      "## Percentage: 0.00%\tCount: 0\n",
      "\n",
      "------------------\n",
      "\n",
      "\n"
     ]
    }
   ],
   "source": [
    "def printExamples(data_set, data):\n",
    "    print('Example:')\n",
    "    display(HTML(data_set[['id', 'text']].iloc[0].to_frame().to_html()))\n",
    "    print(\"Try this link: http://twitter.com/statuses/%s\\n\" %(data_set['id'].iloc[0]))\n",
    "    \n",
    "    if data_set['is_retweet'].iloc[0]:\n",
    "        print(\"\\nTweet is based on this Retweet:\")\n",
    "        display(HTML(data[data['id'] == data_set['retweet_id'].iloc[0]].to_html()))\n",
    "        \n",
    "    if data_set['is_quote'].iloc[0]:\n",
    "        print(\"\\nTweet is based on this Quote:\")\n",
    "        display(HTML(data[data['id'] == data_set['quote_id'].iloc[0]].to_html()))\n",
    "    \n",
    "    if data_set['is_reply'].iloc[0]:\n",
    "        print(\"\\nTweet is a reply to this Tweet:\")\n",
    "        display(HTML(data[data['id'] == data_set['reply_to_status_id'].iloc[0]].to_html()))\n",
    "        \n",
    "    \n",
    "def printTweetInfo(data, is_retweet, is_quote, is_reply, has_icard):\n",
    "    print(\"\\n\\n------------------\")\n",
    "    if has_icard:\n",
    "        data_set = data[(data['is_retweet'] == is_retweet) & (data['is_quote'] == is_quote) \n",
    "                      & (data['is_reply'] == is_reply) & (data['has_icard'] == has_icard) & (data['response_code'] != None)]\n",
    "        print(\"# Retweet: %s, Quote: %s, Reply: %s, iCard: %s \\n## Percentage: %0.2f%%\\tCount: %s\\n\" %(is_retweet, is_quote, is_reply, has_icard, len(data_set)/len(data)*100, len(data_set)))\n",
    "    else:\n",
    "        data_set = data[(data['is_retweet'] == is_retweet) & (data['is_quote'] == is_quote) \n",
    "                      & (data['is_reply'] == is_reply) & (data['has_icard'] == has_icard)]\n",
    "        print(\"# Retweet: %s, Quote: %s, Reply: %s, iCard: %s \\n## Percentage: %0.2f%%\\tCount: %s\\n\" %(is_retweet, is_quote, is_reply, has_icard, len(data_set)/len(data)*100, len(data_set)))\n",
    "   \n",
    "    if len(data_set) > 0:\n",
    "        printExamples(data_set, data)\n",
    "    \n",
    "    print(\"------------------\\n\\n\")\n",
    "    \n",
    "printTweetInfo(tweetsS03, False, False, False, False)\n",
    "\n",
    "printTweetInfo(tweetsS03, False, False, False, True)\n",
    "\n",
    "\n",
    "printTweetInfo(tweetsS03, False, False, True, False)\n",
    "\n",
    "printTweetInfo(tweetsS03, False, False, True, True)\n",
    "\n",
    "\n",
    "printTweetInfo(tweetsS03, False, True, False, False)\n",
    "\n",
    "printTweetInfo(tweetsS03, False, True, False, True)\n",
    "\n",
    "\n",
    "printTweetInfo(tweetsS03, False, True, True, False)\n",
    "\n",
    "printTweetInfo(tweetsS03, False, True, True, True)\n",
    "\n",
    "\n",
    "printTweetInfo(tweetsS03, True, False, False, False)\n",
    "\n",
    "printTweetInfo(tweetsS03, True, False, False, True)\n",
    "\n",
    "\n",
    "printTweetInfo(tweetsS03, True, False, True, False)\n",
    "\n",
    "printTweetInfo(tweetsS03, True, False, True, True)\n",
    "\n",
    "\n",
    "printTweetInfo(tweetsS03, True, True, False, False)\n",
    "\n",
    "printTweetInfo(tweetsS03, True, True, False, True)\n",
    "\n",
    "\n",
    "printTweetInfo(tweetsS03, True, True, True, False)\n",
    "\n",
    "printTweetInfo(tweetsS03, True, True, True, True)"
   ]
  }
 ],
 "metadata": {
  "kernelspec": {
   "display_name": "Python 3",
   "language": "python",
   "name": "python3"
  },
  "language_info": {
   "codemirror_mode": {
    "name": "ipython",
    "version": 3
   },
   "file_extension": ".py",
   "mimetype": "text/x-python",
   "name": "python",
   "nbconvert_exporter": "python",
   "pygments_lexer": "ipython3",
   "version": "3.6.5"
  }
 },
 "nbformat": 4,
 "nbformat_minor": 2
}
