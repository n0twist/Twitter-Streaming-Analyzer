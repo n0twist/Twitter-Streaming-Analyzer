{
 "cells": [
  {
   "cell_type": "code",
   "execution_count": 1,
   "metadata": {},
   "outputs": [],
   "source": [
    "import psycopg2\n",
    "import pandas as pd\n",
    "import config\n",
    "from matplotlib import pylab as plt\n",
    "import seaborn as sns\n",
    "import numpy as np\n",
    "from IPython.display import display, HTML\n",
    "import re\n",
    "\n",
    "\n",
    "color_palette = sns.color_palette(palette='muted', n_colors=None, desat=.75)\n",
    "sns.set(context='notebook', palette=color_palette, style='whitegrid', font='sans-serif', font_scale=1.5, color_codes=False, rc=None)\n",
    "pd.set_option('display.max_colwidth', -1)\n",
    "table_styles = [{'selector': 'td',\n",
    "                 'props': [('min-width', '100px'), ('text-align', 'center')]},\n",
    "                {'selector': 'tr',\n",
    "                 'props': [('border-bottom', '1px dotted black')]},\n",
    "                {'selector': 'th',\n",
    "                 'props': [('text-align', 'center')]}\n",
    "               ]\n",
    "\n",
    "%matplotlib inline\n",
    "\n",
    "directory = \"url_top_lists/\"\n",
    "stream = \"comparison\""
   ]
  },
  {
   "cell_type": "code",
   "execution_count": 2,
   "metadata": {},
   "outputs": [
    {
     "name": "stdout",
     "output_type": "stream",
     "text": [
      "Connecting to the PostgreSQL database...\n",
      "PostgreSQL database version:\n",
      "('PostgreSQL 9.6.7, compiled by Visual C++ build 1800, 64-bit',)\n",
      "('PostgreSQL 9.6.7, compiled by Visual C++ build 1800, 64-bit',)\n",
      "('PostgreSQL 9.6.7, compiled by Visual C++ build 1800, 64-bit',)\n",
      "('PostgreSQL 9.6.7, compiled by Visual C++ build 1800, 64-bit',)\n"
     ]
    }
   ],
   "source": [
    "conn = None\n",
    "try:\n",
    "    # read connection parameters\n",
    "    paramsS17 = config.cfgAzureS17()\n",
    "    paramsS03 = config.cfgAzureS03()\n",
    "\n",
    "    paramsF17 = config.cfgAzureF17()\n",
    "    paramsF03 = config.cfgAzureF03()\n",
    "    \n",
    "    # connect to the PostgreSQL server\n",
    "    print('Connecting to the PostgreSQL database...')\n",
    "    connS17 = psycopg2.connect(**paramsS17)\n",
    "    connS03 = psycopg2.connect(**paramsS03)\n",
    "    \n",
    "    connF17 = psycopg2.connect(**paramsF17)\n",
    "    connF03 = psycopg2.connect(**paramsF03)\n",
    "\n",
    "    # create a cursor\n",
    "    curS17 = connS17.cursor()\n",
    "    curS03 = connS03.cursor()\n",
    "    \n",
    "    curF17 = connF17.cursor()\n",
    "    curF03 = connF03.cursor()\n",
    "\n",
    "    # execute a statement\n",
    "    print('PostgreSQL database version:')\n",
    "    \n",
    "    curS17.execute('SELECT version()')\n",
    "    curS03.execute('SELECT version()')\n",
    "    curF17.execute('SELECT version()')\n",
    "    curF03.execute('SELECT version()')\n",
    "    \n",
    "    # display the PostgreSQL database server version\n",
    "    db_version_curS17 = curS17.fetchone()\n",
    "    db_version_curS03 = curS03.fetchone()\n",
    "    db_version_curF17 = curF17.fetchone()\n",
    "    db_version_curF03 = curF03.fetchone()\n",
    "    \n",
    "    print(db_version_curS17)\n",
    "    print(db_version_curS03)\n",
    "    print(db_version_curF17)\n",
    "    print(db_version_curF03)\n",
    "\n",
    "    # close the communication with the PostgreSQL\n",
    "    curS17.close()\n",
    "    curS03.close()\n",
    "    curF17.close()\n",
    "    curF03.close()\n",
    "\n",
    "except (Exception, psycopg2.DatabaseError) as error:\n",
    "    print(error)"
   ]
  },
  {
   "cell_type": "markdown",
   "metadata": {},
   "source": [
    "## Query User URLs"
   ]
  },
  {
   "cell_type": "markdown",
   "metadata": {},
   "source": [
    "### Sampled Data - Week 03"
   ]
  },
  {
   "cell_type": "code",
   "execution_count": 7,
   "metadata": {},
   "outputs": [
    {
     "name": "stdout",
     "output_type": "stream",
     "text": [
      "Number of User URLs: 56768\n",
      "Number of Tweets by User: 123680\n"
     ]
    },
    {
     "data": {
      "text/html": [
       "<div>\n",
       "<style scoped>\n",
       "    .dataframe tbody tr th:only-of-type {\n",
       "        vertical-align: middle;\n",
       "    }\n",
       "\n",
       "    .dataframe tbody tr th {\n",
       "        vertical-align: top;\n",
       "    }\n",
       "\n",
       "    .dataframe thead th {\n",
       "        text-align: right;\n",
       "    }\n",
       "</style>\n",
       "<table border=\"1\" class=\"dataframe\">\n",
       "  <thead>\n",
       "    <tr style=\"text-align: right;\">\n",
       "      <th></th>\n",
       "      <th>tweet_id</th>\n",
       "      <th>user_id</th>\n",
       "      <th>text</th>\n",
       "      <th>name</th>\n",
       "      <th>url</th>\n",
       "      <th>user_creation_date</th>\n",
       "    </tr>\n",
       "  </thead>\n",
       "  <tbody>\n",
       "    <tr>\n",
       "      <th>0</th>\n",
       "      <td>952666342414577664</td>\n",
       "      <td>499069779</td>\n",
       "      <td>@ProjectVoteLiam Dieciseis #BestSoloBreakout #LiamPayne #iHeartAwards</td>\n",
       "      <td>For You; Belle</td>\n",
       "      <td>None</td>\n",
       "      <td>Tue Feb 21 18:55:28 +0000 2012</td>\n",
       "    </tr>\n",
       "    <tr>\n",
       "      <th>1</th>\n",
       "      <td>952676816803770368</td>\n",
       "      <td>2992834163</td>\n",
       "      <td>Verkehr - Lotte: Brückenarbeiten an der A1 dauern länger als geplant - Coesfeld/Osnabrück (dpa) - Autofahrer auf der Autobahn 1 an der Landesgrenze zwischen Niedersachsen und Nordrhein-Westfalen müssen sich auch zu Beginn der neuen Woche auf Behinderu... https://t.co/zx3u0gpfDM</td>\n",
       "      <td>Deutschland Germany</td>\n",
       "      <td>None</td>\n",
       "      <td>Thu Jan 22 19:45:11 +0000 2015</td>\n",
       "    </tr>\n",
       "    <tr>\n",
       "      <th>2</th>\n",
       "      <td>952676816820555776</td>\n",
       "      <td>2992834163</td>\n",
       "      <td>Kriminalität - Dortmund: Vermummte wollen Gaststätte mit Fußballfans stürmen - Dortmund/Wolfsburg (dpa) - Im Vorfeld der Begegnung der Fußball-Bundesligisten Borussia Dortmund und VfL Wolfsburg haben Polizeikräfte einen Übergriff auf Fans aus Niedersa... https://t.co/9rZa1ehjkv</td>\n",
       "      <td>Deutschland Germany</td>\n",
       "      <td>None</td>\n",
       "      <td>Thu Jan 22 19:45:11 +0000 2015</td>\n",
       "    </tr>\n",
       "    <tr>\n",
       "      <th>3</th>\n",
       "      <td>952676825183944705</td>\n",
       "      <td>2599674960</td>\n",
       "      <td>15.01.18 00:00 Uhr: #Münster #Spritpreis Diesel 1.282, E5 1.46, E10 1.44 Ø-Preise #Tankerkönig.de</td>\n",
       "      <td>Tankerkönig.de</td>\n",
       "      <td>http://www.tankerkoenig.de</td>\n",
       "      <td>Wed Jul 02 11:36:29 +0000 2014</td>\n",
       "    </tr>\n",
       "    <tr>\n",
       "      <th>4</th>\n",
       "      <td>952676760390336512</td>\n",
       "      <td>15391102</td>\n",
       "      <td>Jeff and MacKenzie Bezos donate $33M scholarship grant for DACA students https://t.co/lz34y81ni2 https://t.co/dxJdfFyY9o</td>\n",
       "      <td>WUSA9</td>\n",
       "      <td>http://www.wusa9.com</td>\n",
       "      <td>Fri Jul 11 13:19:21 +0000 2008</td>\n",
       "    </tr>\n",
       "  </tbody>\n",
       "</table>\n",
       "</div>"
      ],
      "text/plain": [
       "             tweet_id     user_id  \\\n",
       "0  952666342414577664  499069779    \n",
       "1  952676816803770368  2992834163   \n",
       "2  952676816820555776  2992834163   \n",
       "3  952676825183944705  2599674960   \n",
       "4  952676760390336512  15391102     \n",
       "\n",
       "                                                                                                                                                                                                                                                                                     text  \\\n",
       "0  @ProjectVoteLiam Dieciseis #BestSoloBreakout #LiamPayne #iHeartAwards                                                                                                                                                                                                                    \n",
       "1  Verkehr - Lotte: Brückenarbeiten an der A1 dauern länger als geplant - Coesfeld/Osnabrück (dpa) - Autofahrer auf der Autobahn 1 an der Landesgrenze zwischen Niedersachsen und Nordrhein-Westfalen müssen sich auch zu Beginn der neuen Woche auf Behinderu... https://t.co/zx3u0gpfDM   \n",
       "2  Kriminalität - Dortmund: Vermummte wollen Gaststätte mit Fußballfans stürmen - Dortmund/Wolfsburg (dpa) - Im Vorfeld der Begegnung der Fußball-Bundesligisten Borussia Dortmund und VfL Wolfsburg haben Polizeikräfte einen Übergriff auf Fans aus Niedersa... https://t.co/9rZa1ehjkv   \n",
       "3  15.01.18 00:00 Uhr: #Münster #Spritpreis Diesel 1.282, E5 1.46, E10 1.44 Ø-Preise #Tankerkönig.de                                                                                                                                                                                        \n",
       "4  Jeff and MacKenzie Bezos donate $33M scholarship grant for DACA students https://t.co/lz34y81ni2 https://t.co/dxJdfFyY9o                                                                                                                                                                 \n",
       "\n",
       "                  name                         url  \\\n",
       "0  For You; Belle       None                         \n",
       "1  Deutschland Germany  None                         \n",
       "2  Deutschland Germany  None                         \n",
       "3  Tankerkönig.de       http://www.tankerkoenig.de   \n",
       "4  WUSA9                http://www.wusa9.com         \n",
       "\n",
       "               user_creation_date  \n",
       "0  Tue Feb 21 18:55:28 +0000 2012  \n",
       "1  Thu Jan 22 19:45:11 +0000 2015  \n",
       "2  Thu Jan 22 19:45:11 +0000 2015  \n",
       "3  Wed Jul 02 11:36:29 +0000 2014  \n",
       "4  Fri Jul 11 13:19:21 +0000 2008  "
      ]
     },
     "execution_count": 7,
     "metadata": {},
     "output_type": "execute_result"
    }
   ],
   "source": [
    "userURLsS03 = pd.read_sql_query(\"SELECT * FROM user_urls\", connS03 )\n",
    "tweetsByUsersS03 = pd.read_sql_query('''SELECT ti.id as tweet_id, tu.id as user_id, ti.text, tu.name, tu.url, tu.created_at as user_creation_date FROM tweets_info as ti\n",
    "                                        INNER JOIN tweets_users as tu ON ti.user_id = tu.id;''', connS03 )\n",
    "\n",
    "print(\"Number of User URLs: %s\" %len(userURLsS03))\n",
    "userURLsS03.head()\n",
    "\n",
    "print(\"Number of Tweets by User: %s\" %len(tweetsByUsersS03))\n",
    "tweetsByUsersS03.head()"
   ]
  },
  {
   "cell_type": "code",
   "execution_count": 10,
   "metadata": {},
   "outputs": [],
   "source": [
    "top50url = userURLsS03['resolved_url'].value_counts()[:50]"
   ]
  },
  {
   "cell_type": "code",
   "execution_count": 16,
   "metadata": {},
   "outputs": [
    {
     "data": {
      "text/html": [
       "<div>\n",
       "<style scoped>\n",
       "    .dataframe tbody tr th:only-of-type {\n",
       "        vertical-align: middle;\n",
       "    }\n",
       "\n",
       "    .dataframe tbody tr th {\n",
       "        vertical-align: top;\n",
       "    }\n",
       "\n",
       "    .dataframe thead th {\n",
       "        text-align: right;\n",
       "    }\n",
       "</style>\n",
       "<table border=\"1\" class=\"dataframe\">\n",
       "  <thead>\n",
       "    <tr style=\"text-align: right;\">\n",
       "      <th></th>\n",
       "      <th>tweet_id</th>\n",
       "      <th>user_id</th>\n",
       "      <th>text</th>\n",
       "      <th>name</th>\n",
       "      <th>url</th>\n",
       "      <th>user_creation_date</th>\n",
       "    </tr>\n",
       "  </thead>\n",
       "  <tbody>\n",
       "  </tbody>\n",
       "</table>\n",
       "</div>"
      ],
      "text/plain": [
       "Empty DataFrame\n",
       "Columns: [tweet_id, user_id, text, name, url, user_creation_date]\n",
       "Index: []"
      ]
     },
     "execution_count": 16,
     "metadata": {},
     "output_type": "execute_result"
    }
   ],
   "source": [
    "top50url.index[0]\n",
    "tweetsByUsersS03[tweetsByUsersS03['url'] == top50url.index[0]]"
   ]
  }
 ],
 "metadata": {
  "kernelspec": {
   "display_name": "Python 3",
   "language": "python",
   "name": "python3"
  },
  "language_info": {
   "codemirror_mode": {
    "name": "ipython",
    "version": 3
   },
   "file_extension": ".py",
   "mimetype": "text/x-python",
   "name": "python",
   "nbconvert_exporter": "python",
   "pygments_lexer": "ipython3",
   "version": "3.6.5"
  }
 },
 "nbformat": 4,
 "nbformat_minor": 2
}
